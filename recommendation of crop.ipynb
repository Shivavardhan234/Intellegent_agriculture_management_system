{
 "cells": [
  {
   "cell_type": "code",
   "execution_count": null,
   "id": "424a98ad",
   "metadata": {},
   "outputs": [],
   "source": [
    "import pandas as pd\n",
    "import numpy as np\n",
    "\n",
    "df=pd.read_csv(\"Dataset-1.csv\")\n",
    "\n",
    "l=df['label'].unique()\n",
    "l"
   ]
  },
  {
   "cell_type": "code",
   "execution_count": null,
   "id": "c60ad9c9",
   "metadata": {},
   "outputs": [],
   "source": [
    "ads={}\n",
    "x=0\n",
    "for p in l:\n",
    "    ads[p]=x\n",
    "    x=x+1\n",
    "\n",
    "df['label'] = df['label'].map(ads)\n",
    "print(ads)\n",
    "df"
   ]
  },
  {
   "cell_type": "code",
   "execution_count": null,
   "id": "7fd852bf",
   "metadata": {},
   "outputs": [],
   "source": [
    "X=df.iloc[:,:-1].values\n",
    "y=df.iloc[:,-1].values"
   ]
  },
  {
   "cell_type": "code",
   "execution_count": null,
   "id": "c474a89d",
   "metadata": {},
   "outputs": [],
   "source": [
    "from sklearn.preprocessing import MinMaxScaler\n",
    "mms = MinMaxScaler()\n",
    "x = mms.fit_transform(X)\n",
    "x"
   ]
  },
  {
   "cell_type": "code",
   "execution_count": null,
   "id": "87e58493",
   "metadata": {},
   "outputs": [],
   "source": [
    "# Scale the features using StandardScaler\n",
    "from sklearn.preprocessing import StandardScaler\n",
    "scaler = StandardScaler()\n",
    "x = scaler.fit_transform(x)\n",
    "x"
   ]
  },
  {
   "cell_type": "code",
   "execution_count": null,
   "id": "d5808005",
   "metadata": {},
   "outputs": [],
   "source": [
    "from sklearn.model_selection import train_test_split\n",
    "x_train,x_test,y_train,y_test=train_test_split(x,y,test_size=0.25,random_state=69)"
   ]
  },
  {
   "cell_type": "code",
   "execution_count": null,
   "id": "707c2eef",
   "metadata": {},
   "outputs": [],
   "source": [
    "from keras.utils import to_categorical\n",
    "\n",
    "# Assuming y_train contains class labels ranging from 0 to 21  # Set this to the correct number of classes in your dataset\n",
    "Y_train = to_categorical(y_train, num_classes=22)"
   ]
  },
  {
   "cell_type": "code",
   "execution_count": null,
   "id": "dc82d0c0",
   "metadata": {},
   "outputs": [],
   "source": [
    "import tensorflow as tf\n",
    "class myCallback(tf.keras.callbacks.Callback):\n",
    "  def on_epoch_end(self,epoch,logs={}):\n",
    "    print(\"call\")\n",
    "    if(logs.get('val_accuracy')>.99):\n",
    "      print(\"\\nReached %2.2f%% accuracy, so stopping training!!\" %(99.9))\n",
    "      self.model.stop_training=True\n",
    "callbacks=myCallback()"
   ]
  },
  {
   "cell_type": "code",
   "execution_count": null,
   "id": "660dfcd2",
   "metadata": {},
   "outputs": [],
   "source": [
    "import keras\n",
    "from keras.models import Sequential\n",
    "from keras.optimizers import *\n",
    "from keras.layers import Dense,ReLU,Dropout\n",
    "model=Sequential()\n",
    "model.add(Dense(units=1024, activation='ReLU',input_dim=x_train.shape[1]))\n",
    "model.add(Dropout(0.4))\n",
    "\n",
    "model.add(Dense(units=256, activation='relu'))\n",
    "model.add(Dropout(0.4))\n",
    "model.add(Dense(units=128, activation='relu'))\n",
    "model.add(Dropout(0.4))\n",
    "model.add(Dense(units=64, activation='relu'))\n",
    "model.add(Dropout(0.4))\n",
    "model.add(Dense(units=32, activation='relu'))\n",
    "model.add(Dropout(0.4))\n",
    "model.add(Dense(22, activation='softmax'))\n",
    "sgd=SGD(lr=0.26,momentum=0.8,nesterov=True)\n",
    "model.compile(optimizer=sgd, loss='categorical_crossentropy', metrics=['accuracy'])\n",
    "model.fit(x_train, Y_train, validation_split=0.2, batch_size=10, epochs=250,callbacks=[callbacks])"
   ]
  },
  {
   "cell_type": "code",
   "execution_count": null,
   "id": "4e8b063a",
   "metadata": {},
   "outputs": [],
   "source": [
    "# Take user inputs for prediction\n",
    "n = float(input(\"Enter nitrogen value: \"))\n",
    "p = float(input(\"Enter phosporous value: \"))\n",
    "k = float(input(\"Enter potassium value: \"))\n",
    "temp= float(input(\"Enter avg temp value: \"))\n",
    "hum = float(input(\"Enter avg humidity value: \"))\n",
    "ph= float(input(\"Enter ph value of the soil: \"))\n",
    "rf=float(input(\"Enter avg rainfall value: \"))\n",
    "\n",
    "\n",
    "\n",
    "# Create an input array for prediction\n",
    "input_data = [[n,p, k, temp,hum,ph,rf]]\n",
    "\n",
    "# Scale the input data using the trained scaler\n",
    "input_data_scaled = mms.transform(input_data)\n",
    "input_data_scaled = scaler.transform(input_data_scaled)\n",
    "\n",
    "# Predict the yield value\n",
    "crop = model.predict(input_data_scaled)\n",
    "crop"
   ]
  },
  {
   "cell_type": "code",
   "execution_count": null,
   "id": "d77b883f",
   "metadata": {},
   "outputs": [],
   "source": [
    "# Flatten the array into a 1D array\n",
    "crop_arr= crop.flatten()\n",
    "\n",
    "# Find the index of the maximum value in the 1D array\n",
    "max_index = int(np.argmax(crop_arr))\n",
    "\n",
    "print(\"Position of the greatest value in the 1D array:\", max_index)"
   ]
  },
  {
   "cell_type": "code",
   "execution_count": null,
   "id": "b2e92b95",
   "metadata": {},
   "outputs": [],
   "source": [
    "cake = {\n",
    "    'rice': 0, 'maize': 1, 'chickpea': 2, 'kidneybeans': 3, 'pigeonpeas': 4,\n",
    "    'mothbeans': 5, 'mungbean': 6, 'blackgram': 7, 'lentil': 8, 'pomegranate': 9,\n",
    "    'banana': 10, 'mango': 11, 'grapes': 12, 'watermelon': 13, 'muskmelon': 14,\n",
    "    'apple': 15, 'orange': 16, 'papaya': 17, 'coconut': 18, 'cotton': 19, 'jute': 20,\n",
    "    'coffee': 21\n",
    "}\n",
    "# Function to get the string value for a given number\n",
    "def get_string_from_number(number):\n",
    "    for key, value in cake.items():\n",
    "        if value == number:\n",
    "            return key\n",
    "    return \"Number not found in the dictionary.\"\n",
    "\n",
    "# Get the corresponding string value\n",
    "result = get_string_from_number(max_index)\n",
    "print(\"Recommended crop:\", result)\n",
    "\n",
    "\n",
    "\n",
    "\n"
   ]
  }
 ],
 "metadata": {
  "kernelspec": {
   "display_name": "Python 3 (ipykernel)",
   "language": "python",
   "name": "python3"
  },
  "language_info": {
   "codemirror_mode": {
    "name": "ipython",
    "version": 3
   },
   "file_extension": ".py",
   "mimetype": "text/x-python",
   "name": "python",
   "nbconvert_exporter": "python",
   "pygments_lexer": "ipython3",
   "version": "3.10.9"
  }
 },
 "nbformat": 4,
 "nbformat_minor": 5
}
